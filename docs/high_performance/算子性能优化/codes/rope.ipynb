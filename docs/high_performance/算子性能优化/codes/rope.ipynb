{
 "cells": [
  {
   "cell_type": "code",
   "execution_count": 1,
   "metadata": {},
   "outputs": [
    {
     "name": "stdout",
     "output_type": "stream",
     "text": [
      "tensor([1.0000, 0.5623, 0.3162, 0.1778])\n",
      "tensor([1.0000, 0.5623, 0.3162, 0.1778])\n",
      "torch.Size([4]) torch.Size([4])\n",
      "torch.Size([196, 8])\n"
     ]
    }
   ],
   "source": [
    "from rope2d import *\n",
    "\n",
    "dim = 128 # 注意力的维度\n",
    "num_heads = 8 # 注意力头的数量\n",
    "rope_theta = 10.0 # RoPE的theta参数\n",
    "compute_cis = partial(\n",
    "    compute_axial_cis, dim=dim // num_heads, theta=rope_theta\n",
    ")\n",
    "\n",
    "freqs_cis = compute_cis(end_x=14, end_y=14)\n",
    "print(freqs_cis.shape)"
   ]
  },
  {
   "cell_type": "code",
   "execution_count": 4,
   "metadata": {},
   "outputs": [
    {
     "name": "stdout",
     "output_type": "stream",
     "text": [
      "tensor([ 0.,  1.,  2.,  3.,  4.,  5.,  6.,  7.,  8.,  9., 10., 11., 12., 13.,\n",
      "         0.,  1.,  2.,  3.,  4.,  5.,  6.,  7.,  8.,  9., 10., 11., 12., 13.,\n",
      "         0.,  1.,  2.,  3.,  4.,  5.,  6.,  7.,  8.,  9., 10., 11., 12., 13.,\n",
      "         0.,  1.,  2.,  3.,  4.,  5.,  6.,  7.,  8.,  9., 10., 11., 12., 13.,\n",
      "         0.,  1.,  2.,  3.,  4.,  5.,  6.,  7.,  8.,  9., 10., 11., 12., 13.,\n",
      "         0.,  1.,  2.,  3.,  4.,  5.,  6.,  7.,  8.,  9., 10., 11., 12., 13.,\n",
      "         0.,  1.,  2.,  3.,  4.,  5.,  6.,  7.,  8.,  9., 10., 11., 12., 13.,\n",
      "         0.,  1.,  2.,  3.,  4.,  5.,  6.,  7.,  8.,  9., 10., 11., 12., 13.,\n",
      "         0.,  1.,  2.,  3.,  4.,  5.,  6.,  7.,  8.,  9., 10., 11., 12., 13.,\n",
      "         0.,  1.,  2.,  3.,  4.,  5.,  6.,  7.,  8.,  9., 10., 11., 12., 13.,\n",
      "         0.,  1.,  2.,  3.,  4.,  5.,  6.,  7.,  8.,  9., 10., 11., 12., 13.,\n",
      "         0.,  1.,  2.,  3.,  4.,  5.,  6.,  7.,  8.,  9., 10., 11., 12., 13.,\n",
      "         0.,  1.,  2.,  3.,  4.,  5.,  6.,  7.,  8.,  9., 10., 11., 12., 13.,\n",
      "         0.,  1.,  2.,  3.,  4.,  5.,  6.,  7.,  8.,  9., 10., 11., 12., 13.]) tensor([ 0.,  0.,  0.,  0.,  0.,  0.,  0.,  0.,  0.,  0.,  0.,  0.,  0.,  0.,\n",
      "         1.,  1.,  1.,  1.,  1.,  1.,  1.,  1.,  1.,  1.,  1.,  1.,  1.,  1.,\n",
      "         2.,  2.,  2.,  2.,  2.,  2.,  2.,  2.,  2.,  2.,  2.,  2.,  2.,  2.,\n",
      "         3.,  3.,  3.,  3.,  3.,  3.,  3.,  3.,  3.,  3.,  3.,  3.,  3.,  3.,\n",
      "         4.,  4.,  4.,  4.,  4.,  4.,  4.,  4.,  4.,  4.,  4.,  4.,  4.,  4.,\n",
      "         5.,  5.,  5.,  5.,  5.,  5.,  5.,  5.,  5.,  5.,  5.,  5.,  5.,  5.,\n",
      "         6.,  6.,  6.,  6.,  6.,  6.,  6.,  6.,  6.,  6.,  6.,  6.,  6.,  6.,\n",
      "         7.,  7.,  7.,  7.,  7.,  7.,  7.,  7.,  7.,  7.,  7.,  7.,  7.,  7.,\n",
      "         8.,  8.,  8.,  8.,  8.,  8.,  8.,  8.,  8.,  8.,  8.,  8.,  8.,  8.,\n",
      "         9.,  9.,  9.,  9.,  9.,  9.,  9.,  9.,  9.,  9.,  9.,  9.,  9.,  9.,\n",
      "        10., 10., 10., 10., 10., 10., 10., 10., 10., 10., 10., 10., 10., 10.,\n",
      "        11., 11., 11., 11., 11., 11., 11., 11., 11., 11., 11., 11., 11., 11.,\n",
      "        12., 12., 12., 12., 12., 12., 12., 12., 12., 12., 12., 12., 12., 12.,\n",
      "        13., 13., 13., 13., 13., 13., 13., 13., 13., 13., 13., 13., 13., 13.])\n"
     ]
    }
   ],
   "source": [
    "def init_t_xy(end_x: int, end_y: int):\n",
    "    t = torch.arange(end_x * end_y, dtype=torch.float32)\n",
    "    t_x = (t % end_x).float()\n",
    "    t_y = torch.div(t, end_x, rounding_mode=\"floor\").float()\n",
    "    return t_x, t_y\n",
    "\n",
    "t_x, t_y = init_t_xy(14, 14)\n",
    "print(t_x, t_y)"
   ]
  },
  {
   "cell_type": "markdown",
   "metadata": {},
   "source": [
    "$$\n",
    "freqs = \\frac{1}{N} \\sum_{i=0}^{N-1} \\delta(t - t_i)\n",
    "$$"
   ]
  },
  {
   "cell_type": "code",
   "execution_count": 6,
   "metadata": {},
   "outputs": [
    {
     "name": "stdout",
     "output_type": "stream",
     "text": [
      "tensor([1.0000, 0.7499, 0.5623, 0.4217, 0.3162, 0.2371, 0.1778, 0.1334])\n",
      "tensor([[0.0000e+00, 0.0000e+00, 0.0000e+00,  ..., 0.0000e+00, 0.0000e+00,\n",
      "         0.0000e+00],\n",
      "        [1.0000e+00, 7.4989e-01, 5.6234e-01,  ..., 2.3714e-01, 1.7783e-01,\n",
      "         1.3335e-01],\n",
      "        [2.0000e+00, 1.4998e+00, 1.1247e+00,  ..., 4.7427e-01, 3.5566e-01,\n",
      "         2.6670e-01],\n",
      "        ...,\n",
      "        [1.9300e+02, 1.4473e+02, 1.0853e+02,  ..., 4.5768e+01, 3.4321e+01,\n",
      "         2.5737e+01],\n",
      "        [1.9400e+02, 1.4548e+02, 1.0909e+02,  ..., 4.6005e+01, 3.4499e+01,\n",
      "         2.5870e+01],\n",
      "        [1.9500e+02, 1.4623e+02, 1.0966e+02,  ..., 4.6242e+01, 3.4676e+01,\n",
      "         2.6004e+01]])\n",
      "torch.Size([196, 8])\n"
     ]
    }
   ],
   "source": [
    "# rope 1d\n",
    "import torch\n",
    "\n",
    "def precompute_freqs_cis(dim: int, end: int, theta: float = 10000.0):\n",
    "    freqs = 1.0 / (theta ** (torch.arange(0, dim, 2)[: (dim // 2)].float() / dim))\n",
    "    print(freqs)\n",
    "    # print(freqs.shape)\n",
    "    t = torch.arange(end, device=freqs.device, dtype=torch.float32)  # type: ignore\n",
    "    freqs = torch.outer(t, freqs)  # type: ignore\n",
    "    print(freqs)\n",
    "    freqs_cis = torch.polar(torch.ones_like(freqs), freqs)  # complex64\n",
    "    return freqs_cis\n",
    "\n",
    "freqs_cis_1d = precompute_freqs_cis(dim // num_heads, 14 * 14, rope_theta)\n",
    "print(freqs_cis_1d.shape)"
   ]
  },
  {
   "cell_type": "code",
   "execution_count": 4,
   "metadata": {},
   "outputs": [
    {
     "name": "stdout",
     "output_type": "stream",
     "text": [
      "tensor([1.0000, 0.9543, 0.9106, 0.8690, 0.8293, 0.7913, 0.7551, 0.7206, 0.6877,\n",
      "        0.6562, 0.6262, 0.5976, 0.5702, 0.5442, 0.5193, 0.4955, 0.4729, 0.4512,\n",
      "        0.4306, 0.4109, 0.3921, 0.3742, 0.3571, 0.3408, 0.3252, 0.3103, 0.2961,\n",
      "        0.2826, 0.2696, 0.2573, 0.2456, 0.2343, 0.2236, 0.2134, 0.2036, 0.1943,\n",
      "        0.1854, 0.1769, 0.1689, 0.1611, 0.1538, 0.1467, 0.1400, 0.1336, 0.1275,\n",
      "        0.1217, 0.1161, 0.1108, 0.1057, 0.1009, 0.0963, 0.0919, 0.0877, 0.0837,\n",
      "        0.0798, 0.0762, 0.0727, 0.0694, 0.0662, 0.0632, 0.0603, 0.0575, 0.0549,\n",
      "        0.0524])\n"
     ]
    }
   ],
   "source": [
    "def compute_cis(dim: int, theta: float = 100.0):\n",
    "    \"\"\"\n",
    "    计算旋转式位置编码\n",
    "    :param dim: 位置编码的维度\n",
    "    :param theta: 旋转角度\n",
    "    :return: 复数形式的位置编码\n",
    "    \"\"\"\n",
    "    # 计算频率\n",
    "    freqs = 1.0 / (theta ** (torch.arange(0, dim, 2).float() / dim))\n",
    "    print(freqs)\n",
    "    t = torch.arange(0, dim, 2).float() / dim\n",
    "    freqs = torch.outer(t, freqs)\n",
    "    freqs_cis = torch.polar(torch.ones_like(freqs), freqs)\n",
    "    return freqs_cis\n",
    "\n",
    "a = compute_cis(128, 20.0)"
   ]
  },
  {
   "cell_type": "code",
   "execution_count": 26,
   "metadata": {},
   "outputs": [
    {
     "name": "stdout",
     "output_type": "stream",
     "text": [
      "tensor([  0.,   4.,   8.,  12.,  16.,  20.,  24.,  28.,  32.,  36.,  40.,  44.,\n",
      "         48.,  52.,  56.,  60.,  64.,  68.,  72.,  76.,  80.,  84.,  88.,  92.,\n",
      "         96., 100., 104., 108., 112., 116., 120., 124.])\n",
      "x: tensor([[0.0000, 0.0000, 0.0000, 0.0000, 0.0000, 0.0000, 0.0000, 0.0000, 0.0000,\n",
      "         0.0000, 0.0000, 0.0000, 0.0000, 0.0000, 0.0000, 0.0000, 0.0000, 0.0000,\n",
      "         0.0000, 0.0000, 0.0000, 0.0000, 0.0000, 0.0000, 0.0000, 0.0000, 0.0000,\n",
      "         0.0000, 0.0000, 0.0000, 0.0000, 0.0000],\n",
      "        [1.0000, 0.9306, 0.8660, 0.8058, 0.7499, 0.6978, 0.6494, 0.6043, 0.5623,\n",
      "         0.5233, 0.4870, 0.4532, 0.4217, 0.3924, 0.3652, 0.3398, 0.3162, 0.2943,\n",
      "         0.2738, 0.2548, 0.2371, 0.2207, 0.2054, 0.1911, 0.1778, 0.1655, 0.1540,\n",
      "         0.1433, 0.1334, 0.1241, 0.1155, 0.1075],\n",
      "        [2.0000, 1.8611, 1.7319, 1.6117, 1.4998, 1.3957, 1.2988, 1.2086, 1.1247,\n",
      "         1.0466, 0.9739, 0.9063, 0.8434, 0.7848, 0.7303, 0.6796, 0.6325, 0.5885,\n",
      "         0.5477, 0.5097, 0.4743, 0.4413, 0.4107, 0.3822, 0.3557, 0.3310, 0.3080,\n",
      "         0.2866, 0.2667, 0.2482, 0.2310, 0.2149],\n",
      "        [0.0000, 0.0000, 0.0000, 0.0000, 0.0000, 0.0000, 0.0000, 0.0000, 0.0000,\n",
      "         0.0000, 0.0000, 0.0000, 0.0000, 0.0000, 0.0000, 0.0000, 0.0000, 0.0000,\n",
      "         0.0000, 0.0000, 0.0000, 0.0000, 0.0000, 0.0000, 0.0000, 0.0000, 0.0000,\n",
      "         0.0000, 0.0000, 0.0000, 0.0000, 0.0000],\n",
      "        [1.0000, 0.9306, 0.8660, 0.8058, 0.7499, 0.6978, 0.6494, 0.6043, 0.5623,\n",
      "         0.5233, 0.4870, 0.4532, 0.4217, 0.3924, 0.3652, 0.3398, 0.3162, 0.2943,\n",
      "         0.2738, 0.2548, 0.2371, 0.2207, 0.2054, 0.1911, 0.1778, 0.1655, 0.1540,\n",
      "         0.1433, 0.1334, 0.1241, 0.1155, 0.1075],\n",
      "        [2.0000, 1.8611, 1.7319, 1.6117, 1.4998, 1.3957, 1.2988, 1.2086, 1.1247,\n",
      "         1.0466, 0.9739, 0.9063, 0.8434, 0.7848, 0.7303, 0.6796, 0.6325, 0.5885,\n",
      "         0.5477, 0.5097, 0.4743, 0.4413, 0.4107, 0.3822, 0.3557, 0.3310, 0.3080,\n",
      "         0.2866, 0.2667, 0.2482, 0.2310, 0.2149]]) torch.Size([6, 32])\n",
      "y: tensor([[0.0000, 0.0000, 0.0000, 0.0000, 0.0000, 0.0000, 0.0000, 0.0000, 0.0000,\n",
      "         0.0000, 0.0000, 0.0000, 0.0000, 0.0000, 0.0000, 0.0000, 0.0000, 0.0000,\n",
      "         0.0000, 0.0000, 0.0000, 0.0000, 0.0000, 0.0000, 0.0000, 0.0000, 0.0000,\n",
      "         0.0000, 0.0000, 0.0000, 0.0000, 0.0000],\n",
      "        [0.0000, 0.0000, 0.0000, 0.0000, 0.0000, 0.0000, 0.0000, 0.0000, 0.0000,\n",
      "         0.0000, 0.0000, 0.0000, 0.0000, 0.0000, 0.0000, 0.0000, 0.0000, 0.0000,\n",
      "         0.0000, 0.0000, 0.0000, 0.0000, 0.0000, 0.0000, 0.0000, 0.0000, 0.0000,\n",
      "         0.0000, 0.0000, 0.0000, 0.0000, 0.0000],\n",
      "        [0.0000, 0.0000, 0.0000, 0.0000, 0.0000, 0.0000, 0.0000, 0.0000, 0.0000,\n",
      "         0.0000, 0.0000, 0.0000, 0.0000, 0.0000, 0.0000, 0.0000, 0.0000, 0.0000,\n",
      "         0.0000, 0.0000, 0.0000, 0.0000, 0.0000, 0.0000, 0.0000, 0.0000, 0.0000,\n",
      "         0.0000, 0.0000, 0.0000, 0.0000, 0.0000],\n",
      "        [1.0000, 0.9306, 0.8660, 0.8058, 0.7499, 0.6978, 0.6494, 0.6043, 0.5623,\n",
      "         0.5233, 0.4870, 0.4532, 0.4217, 0.3924, 0.3652, 0.3398, 0.3162, 0.2943,\n",
      "         0.2738, 0.2548, 0.2371, 0.2207, 0.2054, 0.1911, 0.1778, 0.1655, 0.1540,\n",
      "         0.1433, 0.1334, 0.1241, 0.1155, 0.1075],\n",
      "        [1.0000, 0.9306, 0.8660, 0.8058, 0.7499, 0.6978, 0.6494, 0.6043, 0.5623,\n",
      "         0.5233, 0.4870, 0.4532, 0.4217, 0.3924, 0.3652, 0.3398, 0.3162, 0.2943,\n",
      "         0.2738, 0.2548, 0.2371, 0.2207, 0.2054, 0.1911, 0.1778, 0.1655, 0.1540,\n",
      "         0.1433, 0.1334, 0.1241, 0.1155, 0.1075],\n",
      "        [1.0000, 0.9306, 0.8660, 0.8058, 0.7499, 0.6978, 0.6494, 0.6043, 0.5623,\n",
      "         0.5233, 0.4870, 0.4532, 0.4217, 0.3924, 0.3652, 0.3398, 0.3162, 0.2943,\n",
      "         0.2738, 0.2548, 0.2371, 0.2207, 0.2054, 0.1911, 0.1778, 0.1655, 0.1540,\n",
      "         0.1433, 0.1334, 0.1241, 0.1155, 0.1075]]) torch.Size([6, 32])\n",
      "111\n",
      "torch.Size([6, 32]) torch.Size([6, 32])\n",
      "torch.Size([6, 64])\n",
      "torch.Size([2, 6, 128]) torch.Size([2, 6, 128])\n"
     ]
    }
   ],
   "source": [
    "import torch\n",
    "\n",
    "# 生成旋转矩阵\n",
    "def precompute_freqs_cis(dim: int, seq_len: int, theta: float = 10000.0):\n",
    "    # 计算词向量元素两两分组之后，每组元素对应的旋转角度 \\theta_i\n",
    "    freqs = 1.0 / (theta ** (torch.arange(0, dim, 2)[: (dim // 2)].float() / dim))\n",
    "    # 生成 token 序列索引 t = [0, 1,..., seq_len-1]\n",
    "    t = torch.arange(seq_len, device=freqs.device)\n",
    "    # freqs.shape = [seq_len, dim // 2]\n",
    "    freqs = torch.outer(t, freqs).float()  # 计算m * \\theta\n",
    "\n",
    "    # 计算结果是个复数向量\n",
    "    # 假设 freqs = [x, y]\n",
    "    # 则 freqs_cis = [cos(x) + sin(x)i, cos(y) + sin(y)i]\n",
    "    freqs_cis = torch.polar(torch.ones_like(freqs), freqs)\n",
    "    return freqs_cis\n",
    "\n",
    "def init_t_xy(end_x: int, end_y: int):\n",
    "    t = torch.arange(end_x * end_y, dtype=torch.float32)\n",
    "    t_x = (t % end_x).float()\n",
    "    t_y = torch.div(t, end_x, rounding_mode=\"floor\").float()\n",
    "    return t_x, t_y\n",
    "\n",
    "\n",
    "def precompute_freqs_cis_2d(dim: int, end_x: int, end_y: int, theta: float = 100.0):\n",
    "    freqs_x = 1.0 / (theta ** (torch.arange(0, dim, 4)[: (dim // 4)].float() / dim))\n",
    "    freqs_y = 1.0 / (theta ** (torch.arange(0, dim, 4)[: (dim // 4)].float() / dim))\n",
    "    print((torch.arange(0, dim, 4)[: (dim // 4)].float()))\n",
    "\n",
    "    t_x, t_y = init_t_xy(end_x, end_y)\n",
    "    freqs_x = torch.outer(t_x, freqs_x)\n",
    "    print(\"x:\", freqs_x, freqs_x.shape)\n",
    "    freqs_y = torch.outer(t_y, freqs_y)\n",
    "    print(\"y:\", freqs_y, freqs_y.shape)\n",
    "    freqs_cis_x = torch.polar(torch.ones_like(freqs_x), freqs_x)\n",
    "    freqs_cis_y = torch.polar(torch.ones_like(freqs_y), freqs_y)\n",
    "    print(111)\n",
    "    print(freqs_cis_x.shape, freqs_cis_y.shape)\n",
    "    return torch.cat([freqs_cis_x, freqs_cis_y], dim=-1)\n",
    "\n",
    "\n",
    "# 旋转位置编码计算\n",
    "def apply_rotary_emb(\n",
    "    xq: torch.Tensor,\n",
    "    xk: torch.Tensor,\n",
    "    freqs_cis: torch.Tensor,\n",
    "):\n",
    "    \"\"\"\n",
    "    xq: q 矩阵\n",
    "    xk: k 矩阵\n",
    "    freqs_cis: 位置编码\n",
    "    \"\"\"\n",
    "    # xq.shape = [batch_size, seq_len, dim]\n",
    "    # xq_.shape = [batch_size, seq_len, dim // 2, 2]\n",
    "    xq_ = xq.float().reshape(*xq.shape[:-1], -1, 2)\n",
    "    xk_ = xk.float().reshape(*xk.shape[:-1], -1, 2)\n",
    "\n",
    "    # 转为复数域\n",
    "    xq_ = torch.view_as_complex(xq_)\n",
    "    xk_ = torch.view_as_complex(xk_)\n",
    "\n",
    "    # 应用旋转操作，然后将结果转回实数域\n",
    "    # xq_out.shape = [batch_size, seq_len, dim]\n",
    "    xq_out = torch.view_as_real(xq_ * freqs_cis).flatten(2)\n",
    "    xk_out = torch.view_as_real(xk_ * freqs_cis).flatten(2)\n",
    "    return xq_out.type_as(xq), xk_out.type_as(xk)\n",
    "\n",
    "\n",
    "# 测试代码\n",
    "# freqs = precompute_freqs_cis(128, 2 * 2, 10.0)\n",
    "\n",
    "# xq = torch.randn(2, 2 * 2, 128)\n",
    "# xk = torch.randn(2, 2 * 2, 128)\n",
    "# print(xq[0, 0])\n",
    "# xq_out, xk_out = apply_rotary_emb(xq, xk, freqs)\n",
    "# print(xq_out[0, 0])\n",
    "\n",
    "freqs_2d = precompute_freqs_cis_2d(128, 3, 2, 10.0)\n",
    "print(freqs_2d.shape)\n",
    "xq = torch.randn(2, 3 * 2, 128)\n",
    "xk = torch.randn(2, 3 * 2, 128)\n",
    "xq_out, xk_out = apply_rotary_emb(xq, xk, freqs_2d)\n",
    "print(xq_out.shape, xk_out.shape)\n",
    "\n",
    "\n",
    "theta = 10.0\n",
    "dim = 128\n",
    "freqs_x = 1.0 / (theta ** (torch.arange(0, dim, 4)[: (dim // 4)].float() / dim))\n",
    "freqs_y = 1.0 / (theta ** (torch.arange(0, dim, 4)[: (dim // 4)].float() / dim))\n",
    "# print(freqs_x)\n",
    "# print(freqs_y)"
   ]
  },
  {
   "cell_type": "code",
   "execution_count": 2,
   "metadata": {},
   "outputs": [
    {
     "name": "stdout",
     "output_type": "stream",
     "text": [
      "torch.Size([4, 6])\n"
     ]
    },
    {
     "ename": "RuntimeError",
     "evalue": "The size of tensor a (64) must match the size of tensor b (6) at non-singleton dimension 2",
     "output_type": "error",
     "traceback": [
      "\u001b[0;31m---------------------------------------------------------------------------\u001b[0m",
      "\u001b[0;31mRuntimeError\u001b[0m                              Traceback (most recent call last)",
      "Cell \u001b[0;32mIn[2], line 9\u001b[0m\n\u001b[1;32m      7\u001b[0m xq \u001b[38;5;241m=\u001b[39m torch\u001b[38;5;241m.\u001b[39mrandn(\u001b[38;5;241m2\u001b[39m, \u001b[38;5;241m2\u001b[39m \u001b[38;5;241m*\u001b[39m \u001b[38;5;241m2\u001b[39m, \u001b[38;5;241m128\u001b[39m)\n\u001b[1;32m      8\u001b[0m xk \u001b[38;5;241m=\u001b[39m torch\u001b[38;5;241m.\u001b[39mrandn(\u001b[38;5;241m2\u001b[39m, \u001b[38;5;241m2\u001b[39m \u001b[38;5;241m*\u001b[39m \u001b[38;5;241m2\u001b[39m, \u001b[38;5;241m128\u001b[39m)\n\u001b[0;32m----> 9\u001b[0m xq_out, xk_out \u001b[38;5;241m=\u001b[39m \u001b[43mapply_rotary_emb\u001b[49m\u001b[43m(\u001b[49m\u001b[43mxq\u001b[49m\u001b[43m,\u001b[49m\u001b[43m \u001b[49m\u001b[43mxk\u001b[49m\u001b[43m,\u001b[49m\u001b[43m \u001b[49m\u001b[43mfreqs\u001b[49m\u001b[43m)\u001b[49m\n",
      "Cell \u001b[0;32mIn[1], line 41\u001b[0m, in \u001b[0;36mapply_rotary_emb\u001b[0;34m(xq, xk, freqs_cis)\u001b[0m\n\u001b[1;32m     37\u001b[0m xk_ \u001b[38;5;241m=\u001b[39m torch\u001b[38;5;241m.\u001b[39mview_as_complex(xk_)\n\u001b[1;32m     39\u001b[0m \u001b[38;5;66;03m# 应用旋转操作，然后将结果转回实数域\u001b[39;00m\n\u001b[1;32m     40\u001b[0m \u001b[38;5;66;03m# xq_out.shape = [batch_size, seq_len, dim]\u001b[39;00m\n\u001b[0;32m---> 41\u001b[0m xq_out \u001b[38;5;241m=\u001b[39m torch\u001b[38;5;241m.\u001b[39mview_as_real(\u001b[43mxq_\u001b[49m\u001b[43m \u001b[49m\u001b[38;5;241;43m*\u001b[39;49m\u001b[43m \u001b[49m\u001b[43mfreqs_cis\u001b[49m)\u001b[38;5;241m.\u001b[39mflatten(\u001b[38;5;241m2\u001b[39m)\n\u001b[1;32m     42\u001b[0m xk_out \u001b[38;5;241m=\u001b[39m torch\u001b[38;5;241m.\u001b[39mview_as_real(xk_ \u001b[38;5;241m*\u001b[39m freqs_cis)\u001b[38;5;241m.\u001b[39mflatten(\u001b[38;5;241m2\u001b[39m)\n\u001b[1;32m     43\u001b[0m \u001b[38;5;28;01mreturn\u001b[39;00m xq_out\u001b[38;5;241m.\u001b[39mtype_as(xq), xk_out\u001b[38;5;241m.\u001b[39mtype_as(xk)\n",
      "\u001b[0;31mRuntimeError\u001b[0m: The size of tensor a (64) must match the size of tensor b (6) at non-singleton dimension 2"
     ]
    }
   ],
   "source": [
    "from rope2d import (\n",
    "    apply_rotary_emb as apply_rotary_emb_2d,\n",
    "    compute_axial_cis,\n",
    "    reshape_for_broadcast,\n",
    ")\n",
    "\n",
    "\n",
    "freqs = compute_axial_cis(dim=12, theta=10, end_x=2, end_y=2)\n",
    "print(freqs.shape)\n",
    "\n",
    "xq = torch.randn(2, 2 * 2, 128)\n",
    "xk = torch.randn(2, 2 * 2, 128)\n",
    "xq_out, xk_out = apply_rotary_emb(xq, xk, freqs)"
   ]
  },
  {
   "cell_type": "code",
   "execution_count": 20,
   "metadata": {},
   "outputs": [],
   "source": [
    "a = torch.arange(0, 20)"
   ]
  },
  {
   "cell_type": "code",
   "execution_count": 21,
   "metadata": {},
   "outputs": [
    {
     "data": {
      "text/plain": [
       "tensor([ 0,  1,  2,  3,  4,  5,  6,  7,  8,  9, 10, 11, 12, 13, 14, 15, 16, 17,\n",
       "        18, 19])"
      ]
     },
     "execution_count": 21,
     "metadata": {},
     "output_type": "execute_result"
    }
   ],
   "source": [
    "a"
   ]
  },
  {
   "cell_type": "code",
   "execution_count": 22,
   "metadata": {},
   "outputs": [
    {
     "data": {
      "text/plain": [
       "tensor([[ 0,  1],\n",
       "        [ 2,  3],\n",
       "        [ 4,  5],\n",
       "        [ 6,  7],\n",
       "        [ 8,  9],\n",
       "        [10, 11],\n",
       "        [12, 13],\n",
       "        [14, 15],\n",
       "        [16, 17],\n",
       "        [18, 19]])"
      ]
     },
     "execution_count": 22,
     "metadata": {},
     "output_type": "execute_result"
    }
   ],
   "source": [
    "a.reshape(-1, 2)"
   ]
  },
  {
   "cell_type": "code",
   "execution_count": null,
   "metadata": {},
   "outputs": [],
   "source": []
  }
 ],
 "metadata": {
  "kernelspec": {
   "display_name": "base",
   "language": "python",
   "name": "python3"
  },
  "language_info": {
   "codemirror_mode": {
    "name": "ipython",
    "version": 3
   },
   "file_extension": ".py",
   "mimetype": "text/x-python",
   "name": "python",
   "nbconvert_exporter": "python",
   "pygments_lexer": "ipython3",
   "version": "3.11.8"
  }
 },
 "nbformat": 4,
 "nbformat_minor": 2
}
