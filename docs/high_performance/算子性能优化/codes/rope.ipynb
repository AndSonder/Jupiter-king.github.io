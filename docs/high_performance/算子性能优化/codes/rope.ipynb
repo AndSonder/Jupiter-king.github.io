{
 "cells": [
  {
   "cell_type": "code",
   "execution_count": 1,
   "metadata": {},
   "outputs": [
    {
     "name": "stdout",
     "output_type": "stream",
     "text": [
      "tensor([1.0000, 0.5623, 0.3162, 0.1778])\n",
      "tensor([1.0000, 0.5623, 0.3162, 0.1778])\n",
      "torch.Size([4]) torch.Size([4])\n",
      "torch.Size([196, 8])\n"
     ]
    }
   ],
   "source": [
    "from rope2d import *\n",
    "\n",
    "dim = 128 # 注意力的维度\n",
    "num_heads = 8 # 注意力头的数量\n",
    "rope_theta = 10.0 # RoPE的theta参数\n",
    "compute_cis = partial(\n",
    "    compute_axial_cis, dim=dim // num_heads, theta=rope_theta\n",
    ")\n",
    "\n",
    "freqs_cis = compute_cis(end_x=14, end_y=14)\n",
    "print(freqs_cis.shape)"
   ]
  },
  {
   "cell_type": "code",
   "execution_count": 4,
   "metadata": {},
   "outputs": [
    {
     "name": "stdout",
     "output_type": "stream",
     "text": [
      "tensor([ 0.,  1.,  2.,  3.,  4.,  5.,  6.,  7.,  8.,  9., 10., 11., 12., 13.,\n",
      "         0.,  1.,  2.,  3.,  4.,  5.,  6.,  7.,  8.,  9., 10., 11., 12., 13.,\n",
      "         0.,  1.,  2.,  3.,  4.,  5.,  6.,  7.,  8.,  9., 10., 11., 12., 13.,\n",
      "         0.,  1.,  2.,  3.,  4.,  5.,  6.,  7.,  8.,  9., 10., 11., 12., 13.,\n",
      "         0.,  1.,  2.,  3.,  4.,  5.,  6.,  7.,  8.,  9., 10., 11., 12., 13.,\n",
      "         0.,  1.,  2.,  3.,  4.,  5.,  6.,  7.,  8.,  9., 10., 11., 12., 13.,\n",
      "         0.,  1.,  2.,  3.,  4.,  5.,  6.,  7.,  8.,  9., 10., 11., 12., 13.,\n",
      "         0.,  1.,  2.,  3.,  4.,  5.,  6.,  7.,  8.,  9., 10., 11., 12., 13.,\n",
      "         0.,  1.,  2.,  3.,  4.,  5.,  6.,  7.,  8.,  9., 10., 11., 12., 13.,\n",
      "         0.,  1.,  2.,  3.,  4.,  5.,  6.,  7.,  8.,  9., 10., 11., 12., 13.,\n",
      "         0.,  1.,  2.,  3.,  4.,  5.,  6.,  7.,  8.,  9., 10., 11., 12., 13.,\n",
      "         0.,  1.,  2.,  3.,  4.,  5.,  6.,  7.,  8.,  9., 10., 11., 12., 13.,\n",
      "         0.,  1.,  2.,  3.,  4.,  5.,  6.,  7.,  8.,  9., 10., 11., 12., 13.,\n",
      "         0.,  1.,  2.,  3.,  4.,  5.,  6.,  7.,  8.,  9., 10., 11., 12., 13.]) tensor([ 0.,  0.,  0.,  0.,  0.,  0.,  0.,  0.,  0.,  0.,  0.,  0.,  0.,  0.,\n",
      "         1.,  1.,  1.,  1.,  1.,  1.,  1.,  1.,  1.,  1.,  1.,  1.,  1.,  1.,\n",
      "         2.,  2.,  2.,  2.,  2.,  2.,  2.,  2.,  2.,  2.,  2.,  2.,  2.,  2.,\n",
      "         3.,  3.,  3.,  3.,  3.,  3.,  3.,  3.,  3.,  3.,  3.,  3.,  3.,  3.,\n",
      "         4.,  4.,  4.,  4.,  4.,  4.,  4.,  4.,  4.,  4.,  4.,  4.,  4.,  4.,\n",
      "         5.,  5.,  5.,  5.,  5.,  5.,  5.,  5.,  5.,  5.,  5.,  5.,  5.,  5.,\n",
      "         6.,  6.,  6.,  6.,  6.,  6.,  6.,  6.,  6.,  6.,  6.,  6.,  6.,  6.,\n",
      "         7.,  7.,  7.,  7.,  7.,  7.,  7.,  7.,  7.,  7.,  7.,  7.,  7.,  7.,\n",
      "         8.,  8.,  8.,  8.,  8.,  8.,  8.,  8.,  8.,  8.,  8.,  8.,  8.,  8.,\n",
      "         9.,  9.,  9.,  9.,  9.,  9.,  9.,  9.,  9.,  9.,  9.,  9.,  9.,  9.,\n",
      "        10., 10., 10., 10., 10., 10., 10., 10., 10., 10., 10., 10., 10., 10.,\n",
      "        11., 11., 11., 11., 11., 11., 11., 11., 11., 11., 11., 11., 11., 11.,\n",
      "        12., 12., 12., 12., 12., 12., 12., 12., 12., 12., 12., 12., 12., 12.,\n",
      "        13., 13., 13., 13., 13., 13., 13., 13., 13., 13., 13., 13., 13., 13.])\n"
     ]
    }
   ],
   "source": [
    "def init_t_xy(end_x: int, end_y: int):\n",
    "    t = torch.arange(end_x * end_y, dtype=torch.float32)\n",
    "    t_x = (t % end_x).float()\n",
    "    t_y = torch.div(t, end_x, rounding_mode=\"floor\").float()\n",
    "    return t_x, t_y\n",
    "\n",
    "t_x, t_y = init_t_xy(14, 14)\n",
    "print(t_x, t_y)"
   ]
  },
  {
   "cell_type": "markdown",
   "metadata": {},
   "source": [
    "$$\n",
    "freqs = \\frac{1}{N} \\sum_{i=0}^{N-1} \\delta(t - t_i)\n",
    "$$"
   ]
  },
  {
   "cell_type": "code",
   "execution_count": 6,
   "metadata": {},
   "outputs": [
    {
     "name": "stdout",
     "output_type": "stream",
     "text": [
      "tensor([1.0000, 0.7499, 0.5623, 0.4217, 0.3162, 0.2371, 0.1778, 0.1334])\n",
      "tensor([[0.0000e+00, 0.0000e+00, 0.0000e+00,  ..., 0.0000e+00, 0.0000e+00,\n",
      "         0.0000e+00],\n",
      "        [1.0000e+00, 7.4989e-01, 5.6234e-01,  ..., 2.3714e-01, 1.7783e-01,\n",
      "         1.3335e-01],\n",
      "        [2.0000e+00, 1.4998e+00, 1.1247e+00,  ..., 4.7427e-01, 3.5566e-01,\n",
      "         2.6670e-01],\n",
      "        ...,\n",
      "        [1.9300e+02, 1.4473e+02, 1.0853e+02,  ..., 4.5768e+01, 3.4321e+01,\n",
      "         2.5737e+01],\n",
      "        [1.9400e+02, 1.4548e+02, 1.0909e+02,  ..., 4.6005e+01, 3.4499e+01,\n",
      "         2.5870e+01],\n",
      "        [1.9500e+02, 1.4623e+02, 1.0966e+02,  ..., 4.6242e+01, 3.4676e+01,\n",
      "         2.6004e+01]])\n",
      "torch.Size([196, 8])\n"
     ]
    }
   ],
   "source": [
    "# rope 1d\n",
    "import torch\n",
    "\n",
    "def precompute_freqs_cis(dim: int, end: int, theta: float = 10000.0):\n",
    "    freqs = 1.0 / (theta ** (torch.arange(0, dim, 2)[: (dim // 2)].float() / dim))\n",
    "    print(freqs)\n",
    "    # print(freqs.shape)\n",
    "    t = torch.arange(end, device=freqs.device, dtype=torch.float32)  # type: ignore\n",
    "    freqs = torch.outer(t, freqs)  # type: ignore\n",
    "    print(freqs)\n",
    "    freqs_cis = torch.polar(torch.ones_like(freqs), freqs)  # complex64\n",
    "    return freqs_cis\n",
    "\n",
    "freqs_cis_1d = precompute_freqs_cis(dim // num_heads, 14 * 14, rope_theta)\n",
    "print(freqs_cis_1d.shape)"
   ]
  },
  {
   "cell_type": "code",
   "execution_count": 4,
   "metadata": {},
   "outputs": [
    {
     "name": "stdout",
     "output_type": "stream",
     "text": [
      "tensor([1.0000, 0.9543, 0.9106, 0.8690, 0.8293, 0.7913, 0.7551, 0.7206, 0.6877,\n",
      "        0.6562, 0.6262, 0.5976, 0.5702, 0.5442, 0.5193, 0.4955, 0.4729, 0.4512,\n",
      "        0.4306, 0.4109, 0.3921, 0.3742, 0.3571, 0.3408, 0.3252, 0.3103, 0.2961,\n",
      "        0.2826, 0.2696, 0.2573, 0.2456, 0.2343, 0.2236, 0.2134, 0.2036, 0.1943,\n",
      "        0.1854, 0.1769, 0.1689, 0.1611, 0.1538, 0.1467, 0.1400, 0.1336, 0.1275,\n",
      "        0.1217, 0.1161, 0.1108, 0.1057, 0.1009, 0.0963, 0.0919, 0.0877, 0.0837,\n",
      "        0.0798, 0.0762, 0.0727, 0.0694, 0.0662, 0.0632, 0.0603, 0.0575, 0.0549,\n",
      "        0.0524])\n"
     ]
    }
   ],
   "source": [
    "def compute_cis(dim: int, theta: float = 100.0):\n",
    "    \"\"\"\n",
    "    计算旋转式位置编码\n",
    "    :param dim: 位置编码的维度\n",
    "    :param theta: 旋转角度\n",
    "    :return: 复数形式的位置编码\n",
    "    \"\"\"\n",
    "    # 计算频率\n",
    "    freqs = 1.0 / (theta ** (torch.arange(0, dim, 2).float() / dim))\n",
    "    print(freqs)\n",
    "    t = torch.arange(0, dim, 2).float() / dim\n",
    "    freqs = torch.outer(t, freqs)\n",
    "    freqs_cis = torch.polar(torch.ones_like(freqs), freqs)\n",
    "    return freqs_cis\n",
    "\n",
    "a = compute_cis(128, 20.0)"
   ]
  },
  {
   "cell_type": "code",
   "execution_count": 8,
   "metadata": {},
   "outputs": [
    {
     "name": "stdout",
     "output_type": "stream",
     "text": [
      "torch.Size([196, 64])\n"
     ]
    }
   ],
   "source": [
    "import torch\n",
    "\n",
    "# 生成旋转矩阵\n",
    "def precompute_freqs_cis(dim: int, seq_len: int, theta: float = 10000.0):\n",
    "    # 计算词向量元素两两分组之后，每组元素对应的旋转角度 \\theta_i\n",
    "    freqs = 1.0 / (theta ** (torch.arange(0, dim, 2)[: (dim // 2)].float() / dim))\n",
    "    # 生成 token 序列索引 t = [0, 1,..., seq_len-1]\n",
    "    t = torch.arange(seq_len, device=freqs.device)\n",
    "    # freqs.shape = [seq_len, dim // 2]\n",
    "    freqs = torch.outer(t, freqs).float()  # 计算m * \\theta\n",
    "\n",
    "    # 计算结果是个复数向量\n",
    "    # 假设 freqs = [x, y]\n",
    "    # 则 freqs_cis = [cos(x) + sin(x)i, cos(y) + sin(y)i]\n",
    "    freqs_cis = torch.polar(torch.ones_like(freqs), freqs)\n",
    "    return freqs_cis\n",
    "\n",
    "\n",
    "# 旋转位置编码计算\n",
    "def apply_rotary_emb(\n",
    "    xq: torch.Tensor,\n",
    "    xk: torch.Tensor,\n",
    "    freqs_cis: torch.Tensor,\n",
    "):\n",
    "    \"\"\"\n",
    "    xq: q 矩阵\n",
    "    xk: k 矩阵\n",
    "    freqs_cis: 位置编码\n",
    "    \"\"\"\n",
    "    # xq.shape = [batch_size, seq_len, dim]\n",
    "    # xq_.shape = [batch_size, seq_len, dim // 2, 2]\n",
    "    xq_ = xq.float().reshape(*xq.shape[:-1], -1, 2)\n",
    "    xk_ = xk.float().reshape(*xk.shape[:-1], -1, 2)\n",
    "\n",
    "    # 转为复数域\n",
    "    xq_ = torch.view_as_complex(xq_)\n",
    "    xk_ = torch.view_as_complex(xk_)\n",
    "\n",
    "    # 应用旋转操作，然后将结果转回实数域\n",
    "    # xq_out.shape = [batch_size, seq_len, dim]\n",
    "    xq_out = torch.view_as_real(xq_ * freqs_cis).flatten(2)\n",
    "    xk_out = torch.view_as_real(xk_ * freqs_cis).flatten(2)\n",
    "    return xq_out.type_as(xq), xk_out.type_as(xk)\n",
    "\n",
    "\n",
    "# 测试代码\n",
    "freqs = precompute_freqs_cis(128, 14 * 14, 10.0)\n",
    "xq = torch.randn(2, 14 * 14, 128)\n",
    "xk = torch.randn(2, 14 * 14, 128)\n",
    "xq_out, xk_out = apply_rotary_emb(xq, xk, freqs)\n",
    "\n",
    "print(freqs.shape)"
   ]
  },
  {
   "cell_type": "code",
   "execution_count": null,
   "metadata": {},
   "outputs": [],
   "source": []
  }
 ],
 "metadata": {
  "kernelspec": {
   "display_name": "base",
   "language": "python",
   "name": "python3"
  },
  "language_info": {
   "codemirror_mode": {
    "name": "ipython",
    "version": 3
   },
   "file_extension": ".py",
   "mimetype": "text/x-python",
   "name": "python",
   "nbconvert_exporter": "python",
   "pygments_lexer": "ipython3",
   "version": "3.11.5"
  }
 },
 "nbformat": 4,
 "nbformat_minor": 2
}
